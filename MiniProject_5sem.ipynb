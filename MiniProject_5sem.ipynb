{
 "cells": [
  {
   "cell_type": "markdown",
   "id": "4b741cd3",
   "metadata": {},
   "source": [
    "# Physical Distance Maintaining"
   ]
  },
  {
   "cell_type": "markdown",
   "id": "e6b6e05c",
   "metadata": {},
   "source": [
    "<font size =\"3\"><b>Work Flow:</b>\n",
    "    \n",
    "   <b> [Object detection] -->  [seprating person from other objects] --> [calculating distance b/w person] --> [Predicting Output]</b></font>\n",
    "   \n",
    "   \n",
    "<b><font size = \"3\">Additional Files Required :\n",
    "\n",
    "1) yolv3.config   \n",
    "2) yolov3.weights   \n",
    "3) coco.names</font></b>   \n",
    "   "
   ]
  },
  {
   "cell_type": "markdown",
   "id": "2b0c78fd",
   "metadata": {},
   "source": [
    " "
   ]
  },
  {
   "cell_type": "markdown",
   "id": "082d3dc9",
   "metadata": {},
   "source": [
    "<font size = \"4\"><b><u>Importing Libraries</u></b></font>"
   ]
  },
  {
   "cell_type": "code",
   "execution_count": 1,
   "id": "0f2aac15",
   "metadata": {},
   "outputs": [],
   "source": [
    "from scipy.spatial import distance as dist #used for calculating eucledian distance b/w two persons"
   ]
  },
  {
   "cell_type": "code",
   "execution_count": 2,
   "id": "042b55c3",
   "metadata": {},
   "outputs": [],
   "source": [
    "import numpy as np #used for using and manipulating array"
   ]
  },
  {
   "cell_type": "code",
   "execution_count": 3,
   "id": "0cc4dc9f",
   "metadata": {},
   "outputs": [],
   "source": [
    "import imutils #used for manipulating here especially used for resize the frame for easy detection"
   ]
  },
  {
   "cell_type": "code",
   "execution_count": 4,
   "id": "88e22be1",
   "metadata": {},
   "outputs": [],
   "source": [
    "import cv2 #used for capturing and displaying the live feed and various other functionality"
   ]
  },
  {
   "cell_type": "code",
   "execution_count": 5,
   "id": "1e529865",
   "metadata": {},
   "outputs": [],
   "source": [
    "import os #used for manipulating paths in our system"
   ]
  },
  {
   "cell_type": "markdown",
   "id": "fe1ac6b7",
   "metadata": {},
   "source": [
    "<font size = \"4\"><b><u>Declaring and initiliazing variable</u></b></font>"
   ]
  },
  {
   "cell_type": "code",
   "execution_count": 6,
   "id": "bb894340",
   "metadata": {},
   "outputs": [],
   "source": [
    "location = \"C:/Users/VIVEK/Desktop/social distance maintaing using eucledian\" #path to our current folder"
   ]
  },
  {
   "cell_type": "code",
   "execution_count": 7,
   "id": "8d744be6",
   "metadata": {},
   "outputs": [],
   "source": [
    "MIN_DISTANCE = 50 #minimum distance b/w two people considered to be safe"
   ]
  },
  {
   "cell_type": "code",
   "execution_count": 8,
   "id": "19a2e266",
   "metadata": {},
   "outputs": [],
   "source": [
    "MIN_CONF = 0.3 #minimum confidence to filter out the bounding box "
   ]
  },
  {
   "cell_type": "code",
   "execution_count": 9,
   "id": "5e4354d7",
   "metadata": {},
   "outputs": [],
   "source": [
    "NMS_THRESH = 0.3 #minimum threshold used in Non maximum supression for filtering out overlapping boxes"
   ]
  },
  {
   "cell_type": "code",
   "execution_count": 10,
   "id": "d12e5f0e",
   "metadata": {},
   "outputs": [],
   "source": [
    "path = os.path.sep.join([location,\"coco.names\"]) #path of file containing names of object that YOLOv3 can recognize"
   ]
  },
  {
   "cell_type": "code",
   "execution_count": 11,
   "id": "f3235cd8",
   "metadata": {},
   "outputs": [],
   "source": [
    "labels = open(path).read().strip().split(\"\\n\") #storing all the coco names in an array "
   ]
  },
  {
   "cell_type": "code",
   "execution_count": 12,
   "id": "7d83560f",
   "metadata": {},
   "outputs": [],
   "source": [
    "weight_path = \"C:/Users/VIVEK/Desktop/social distance maintaing using eucledian/yolov3.weights\" # path of file containing weights for objects"
   ]
  },
  {
   "cell_type": "code",
   "execution_count": 13,
   "id": "94a3b3d2",
   "metadata": {},
   "outputs": [],
   "source": [
    "config_path = \"C:/Users/VIVEK/Desktop/social distance maintaing using eucledian/yolov3.cfg\" #path of the file containing configuration of yolov3"
   ]
  },
  {
   "cell_type": "markdown",
   "id": "9b92d974",
   "metadata": {},
   "source": [
    "<font size = \"4\"><b><u>Loading the Yolo Object detector</u></b></font>"
   ]
  },
  {
   "cell_type": "code",
   "execution_count": 14,
   "id": "5c7a2ef1",
   "metadata": {},
   "outputs": [],
   "source": [
    "net = cv2.dnn.readNetFromDarknet(config_path,weight_path) #used to load Yolo object detector network model"
   ]
  },
  {
   "cell_type": "code",
   "execution_count": 15,
   "id": "b42edd25",
   "metadata": {},
   "outputs": [
    {
     "name": "stdout",
     "output_type": "stream",
     "text": [
      "254\n",
      "['yolo_82', 'yolo_94', 'yolo_106']\n"
     ]
    }
   ],
   "source": [
    "ln = net.getLayerNames() #returns list of all the layer contained in our network defined by net\n",
    "\n",
    "print(len(ln))\n",
    "\n",
    "ln = [ln[i - 1] for i in net.getUnconnectedOutLayers()] #it gives you the names of final output layers\n",
    "\n",
    "print(ln)"
   ]
  },
  {
   "cell_type": "markdown",
   "id": "3c7f565b",
   "metadata": {},
   "source": [
    "<font size = \"4\"><b><u>specifying input (either live feed or pre recorded video)</u></b></font>"
   ]
  },
  {
   "cell_type": "code",
   "execution_count": 16,
   "id": "54887c01",
   "metadata": {},
   "outputs": [],
   "source": [
    "vs = cv2.VideoCapture(\"demoSD2.mp4\") #opening a pre recorded video\n",
    "\n",
    "# vs = cv2.VideoCapture(0) #use when you want to access the live feed\n",
    "\n",
    "writer = None #variable for storing whether we have a frame to read or not "
   ]
  },
  {
   "cell_type": "markdown",
   "id": "3b054b44",
   "metadata": {},
   "source": [
    "<font size = \"4\"><b><u>Function to detect people and getting there cordinates</u></b></font>"
   ]
  },
  {
   "cell_type": "code",
   "execution_count": 17,
   "id": "cf90de4c",
   "metadata": {},
   "outputs": [],
   "source": [
    "def detect_people(frame, net, ln, personIdx=0):\n",
    "    \n",
    "    (H, W) = frame.shape[:2] # grabing the height and width of the frame\n",
    "    \n",
    "    results = []\n",
    "\n",
    "    #constructing a blob from input frame\n",
    "    blob = cv2.dnn.blobFromImage(frame, 1 / 255.0, (416, 416), swapRB=True, crop=False)\n",
    "    \n",
    "    #specifying to network to consider blob as its input\n",
    "    net.setInput(blob)\n",
    "    \n",
    "    #forward passing the output layers to obtain all the bounding boxes \n",
    "    layerOutputs = net.forward(ln)\n",
    "\n",
    "    boxes = [] # list for stroing the bounding boxes\n",
    "    centroids = [] #list for storing the centroid of each box\n",
    "    confidences = [] # list of confidence for each box\n",
    "\n",
    "    # loop over each of the layer outputs\n",
    "    for output in layerOutputs:\n",
    "        # loop over each of the detections\n",
    "        for detection in output:\n",
    "            # extract the class ID and confidence (i.e., probability)\n",
    "            # of the current object detection\n",
    "            scores = detection[5:]\n",
    "            classID = np.argmax(scores)\n",
    "            confidence = scores[classID]\n",
    "\n",
    "            # filter detections by ensuring that the object\n",
    "            # detected was a person and that the minimum\n",
    "            # confidence is met\n",
    "            if classID == personIdx and confidence > MIN_CONF:\n",
    "                #since we have converted our input frame into a blob of size 416X416 therefore we have to trace back\n",
    "                #the real co-ordinates for bounding box relative to input size\n",
    "                box = detection[0:4] * np.array([W, H, W, H])\n",
    "                \n",
    "                #storing center and height and width from box into variable as int type\n",
    "                (centerX, centerY, width, height) = box.astype(\"int\")\n",
    "\n",
    "                # use the center (x, y)-coordinates to derive the top\n",
    "                # and and left corner of the bounding box so that it can be use to draw boxes in output file\n",
    "                x = int(centerX - (width / 2))\n",
    "                y = int(centerY - (height / 2))\n",
    "\n",
    "                #inserting respective info in boxes, centroids and confidences\n",
    "                \n",
    "                boxes.append([x, y, int(width), int(height)])  #co-ordinates of a boxes\n",
    "                centroids.append((centerX, centerY)) # center point of a bounding box\n",
    "                confidences.append(float(confidence)) #confidence of a particular box\n",
    "\n",
    "    # apply non-maxima suppression to suppress weak, overlapping bounding boxes\n",
    "    idxs = cv2.dnn.NMSBoxes(boxes, confidences, MIN_CONF, NMS_THRESH)\n",
    "\n",
    "    # ensure at least one detection exists\n",
    "    if len(idxs) > 0:\n",
    "        # loop over the indexes we are keeping\n",
    "        for i in idxs.flatten():\n",
    "            # extract the bounding box coordinates\n",
    "            (x, y) = (boxes[i][0], boxes[i][1])\n",
    "            (w, h) = (boxes[i][2], boxes[i][3])\n",
    "\n",
    "            # update our results list to consist of the person\n",
    "            # prediction probability, bounding box coordinates,\n",
    "            # and the centroid\n",
    "            r = (confidences[i], (x, y, x + w, y + h), centroids[i])\n",
    "            results.append(r)\n",
    "\n",
    "    # return the list of results\n",
    "    return results"
   ]
  },
  {
   "cell_type": "markdown",
   "id": "82a04bff",
   "metadata": {},
   "source": [
    "<font size=\"3\"><b><u>Stating the name and format for out output file</u></b></font>"
   ]
  },
  {
   "cell_type": "code",
   "execution_count": 18,
   "id": "b1b0f0be",
   "metadata": {},
   "outputs": [],
   "source": [
    "display = 1\n",
    "output = \"Prediction.avi\""
   ]
  },
  {
   "cell_type": "markdown",
   "id": "b06dbed1",
   "metadata": {},
   "source": [
    "<font size=\"3\"><b><u>Accessing the video frame by frame and predicting the output</u></b></font>"
   ]
  },
  {
   "cell_type": "code",
   "execution_count": 19,
   "id": "efe5ff1a",
   "metadata": {},
   "outputs": [],
   "source": [
    "while True:\n",
    "    # grabbing the video frame by frame\n",
    "    (grabbed, frame) = vs.read() #grabbed will contain whether a frame is detected or not i.e a boolean value and\n",
    "    # frame will store \n",
    "\n",
    "    # if the frame was not grabbed, then we have reached the end\n",
    "    # of the stream\n",
    "    if not grabbed:\n",
    "        cv2.destroyAllWindows()\n",
    "        break\n",
    "\n",
    "    # resize the frame and then detect people (and only people) in it\n",
    "    frame = imutils.resize(frame, width=700)\n",
    "    results = detect_people(frame, net, ln, personIdx=labels.index(\"person\"))\n",
    "\n",
    "    \n",
    "    violate = set() # contains the co-ordinates of peoples voilating social distancing \n",
    "\n",
    "    #if there is only one person then there is no need to check social distancing \n",
    "    if len(results) >= 2:\n",
    "        #storing all the co-ordintes of bounding boxes for calculating the eucledian distance\n",
    "        centroids = np.array([r[2] for r in results])\n",
    "        D = dist.cdist(centroids, centroids, metric=\"euclidean\")\n",
    "\n",
    "        # loop over the upper triangular of the distance matrix\n",
    "        for i in range(0, D.shape[0]):\n",
    "            for j in range(i + 1, D.shape[1]):\n",
    "                # check to see if the distance between any two\n",
    "                # centroid pairs is less than the configured number\n",
    "                # of pixels\n",
    "                if D[i, j] < MIN_DISTANCE:\n",
    "                    # update our violation set with the indexes of the centroid pairs\n",
    "                    violate.add(i)\n",
    "                    violate.add(j)\n",
    "\n",
    "    # loop over the results\n",
    "    for (i, (prob, bbox, centroid)) in enumerate(results):\n",
    "        (startX, startY, endX, endY) = bbox\n",
    "        (cX, cY) = centroid\n",
    "        color = (0, 255, 0)\n",
    "\n",
    "        # if the index pair exists within the violation set, then update the color\n",
    "        if i in violate:\n",
    "            color = (0, 0, 255)\n",
    "\n",
    "        # draw a bounding box around the person\n",
    "        cv2.rectangle(frame, (startX, startY), (endX, endY), color, 2)\n",
    "\n",
    "    # if an output video file path has been supplied and the video\n",
    "    # writer has not been initialized, do so now\n",
    "    if output != \"\" and writer is None:\n",
    "        # initialize our video writer\n",
    "        fourcc = cv2.VideoWriter_fourcc(*\"MJPG\")\n",
    "        writer = cv2.VideoWriter(output, fourcc, 25, (frame.shape[1], frame.shape[0]), True)\n",
    "\n",
    "    # if the video writer is not None, write the frame to the output video file\n",
    "    if writer is not None:\n",
    "        writer.write(frame)\n",
    "        \n",
    "    if display > 0:\n",
    "        #show the output frame\n",
    "        cv2.imshow(\"Output window\", frame)\n",
    "        key = (cv2.waitKey(1)&0xFF)\n",
    "        if key == ord('x'):\n",
    "            vs.release()\n",
    "            cv2.destroyAllWindows()\n",
    "            break"
   ]
  },
  {
   "cell_type": "markdown",
   "id": "80ded710",
   "metadata": {},
   "source": [
    "<font size =\"4\"><b>Thank you! </b></font>"
   ]
  }
 ],
 "metadata": {
  "kernelspec": {
   "display_name": "Python 3",
   "language": "python",
   "name": "python3"
  },
  "language_info": {
   "codemirror_mode": {
    "name": "ipython",
    "version": 3
   },
   "file_extension": ".py",
   "mimetype": "text/x-python",
   "name": "python",
   "nbconvert_exporter": "python",
   "pygments_lexer": "ipython3",
   "version": "3.8.8"
  }
 },
 "nbformat": 4,
 "nbformat_minor": 5
}
